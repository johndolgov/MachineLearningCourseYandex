{
 "cells": [
  {
   "cell_type": "code",
   "execution_count": 1,
   "metadata": {},
   "outputs": [],
   "source": [
    "import numpy as np\n",
    "import pandas as pd\n",
    "import matplotlib.pyplot as plt\n",
    "from sklearn.ensemble import GradientBoostingClassifier\n",
    "from sklearn.ensemble import RandomForestClassifier\n",
    "from sklearn.preprocessing import StandardScaler\n",
    "from sklearn.linear_model import LogisticRegression\n",
    "from sklearn.model_selection import KFold\n",
    "from sklearn.metrics import roc_auc_score\n",
    "import time\n",
    "import datetime"
   ]
  },
  {
   "cell_type": "code",
   "execution_count": 2,
   "metadata": {},
   "outputs": [],
   "source": [
    "features = pd.read_csv('features.csv', index_col='match_id')\n",
    "features.drop(['tower_status_radiant',\n",
    "               'tower_status_dire',\n",
    "               'barracks_status_radiant',\n",
    "               'barracks_status_dire',\n",
    "               'duration'], axis=1, inplace=True)"
   ]
  },
  {
   "cell_type": "markdown",
   "metadata": {},
   "source": [
    "# Логистическая регрессия"
   ]
  },
  {
   "cell_type": "markdown",
   "metadata": {},
   "source": [
    " ### Предобработка данных"
   ]
  },
  {
   "cell_type": "markdown",
   "metadata": {},
   "source": [
    "``Пропуски в таблице заполним нулями``"
   ]
  },
  {
   "cell_type": "code",
   "execution_count": 3,
   "metadata": {},
   "outputs": [],
   "source": [
    "features_0 = features.copy(deep = True)\n",
    "for name in list(features_0.columns.values):\n",
    "    features_0[name].fillna(value=0, inplace=True)"
   ]
  },
  {
   "cell_type": "code",
   "execution_count": 4,
   "metadata": {},
   "outputs": [],
   "source": [
    "X_0 = features_0.loc[:,features_0.columns != 'radiant_win']\n",
    "y = pd.DataFrame(features['radiant_win'])"
   ]
  },
  {
   "cell_type": "markdown",
   "metadata": {},
   "source": [
    "`Произведем скалирование полей`"
   ]
  },
  {
   "cell_type": "code",
   "execution_count": 5,
   "metadata": {},
   "outputs": [
    {
     "name": "stderr",
     "output_type": "stream",
     "text": [
      "/home/ivan/anaconda3/lib/python3.7/site-packages/sklearn/preprocessing/data.py:625: DataConversionWarning: Data with input dtype int64, float64 were all converted to float64 by StandardScaler.\n",
      "  return self.partial_fit(X, y)\n",
      "/home/ivan/anaconda3/lib/python3.7/site-packages/sklearn/base.py:462: DataConversionWarning: Data with input dtype int64, float64 were all converted to float64 by StandardScaler.\n",
      "  return self.fit(X, **fit_params).transform(X)\n"
     ]
    }
   ],
   "source": [
    "scaler = StandardScaler()\n",
    "X_0_scaled = pd.DataFrame(scaler.fit_transform(X_0))"
   ]
  },
  {
   "cell_type": "markdown",
   "metadata": {},
   "source": [
    "#### Проведение кросс-валидации"
   ]
  },
  {
   "cell_type": "markdown",
   "metadata": {},
   "source": [
    "`Функция, которая производит кросс-валидацию для логистической регрессии, а так же выбирает оптимальное значение C`"
   ]
  },
  {
   "cell_type": "code",
   "execution_count": 6,
   "metadata": {},
   "outputs": [],
   "source": [
    "def logreg_cv_with_auc_roc_value(X_0, y, start, end, n_step):\n",
    "    auc_roc_list = []\n",
    "    timing_list = []\n",
    "    kf = KFold(n_splits=5 ,random_state = 241, shuffle=True)\n",
    "    for c in np.linspace(start, end, n_step):\n",
    "        roc_auc_score_list = []\n",
    "        start_time = datetime.datetime.now()\n",
    "        clf = LogisticRegression(solver = 'saga',random_state = 241, penalty='l2', C=c, max_iter = 1000)\n",
    "        for train, test in kf.split(X_0, y):\n",
    "            X_0_train = X_0.iloc[train, :].values.tolist()\n",
    "            X_0_test = X_0.iloc[test, :].values.tolist()\n",
    "            y_train = list(map(lambda x: x.pop(), y.iloc[train, :].values.tolist()))\n",
    "            y_test = list(map(lambda x: x.pop(),y.iloc[test, :].values.tolist()))\n",
    "            probs = clf.fit(X_0_train, y_train).predict_proba(X_0_test)[:, 1]\n",
    "            roc_auc_value = roc_auc_score(y_test, probs)\n",
    "            roc_auc_score_list.append(roc_auc_value)\n",
    "        delta_time = datetime.datetime.now() - start_time\n",
    "        auc_roc_list.append(np.mean(roc_auc_score_list))\n",
    "        timing_list.append(delta_time)\n",
    "        #print(f'AUC-ROC value with C coef equal {c} is {np.mean(roc_auc_score_list)} with elapsed time {delta_time}')\n",
    "    print(f'Best AUC-ROC value is {max(auc_roc_list)} with C value {(auc_roc_list.index(max(auc_roc_list))+1)*(end/n_step)}')\n",
    "    print(f'Time elapsed {timing_list[auc_roc_list.index(max(auc_roc_list))]}')\n",
    "    return max(auc_roc_list), min(auc_roc_list)"
   ]
  },
  {
   "cell_type": "markdown",
   "metadata": {},
   "source": [
    "#### Подбор оптимального параметра C"
   ]
  },
  {
   "cell_type": "markdown",
   "metadata": {},
   "source": [
    "`Наибольшее значение AUC-ROC параметра находится на краю заданного отрезка, посмотрим, какое оптимальное значение на отрезке от 0.0001 до 0.005`"
   ]
  },
  {
   "cell_type": "code",
   "execution_count": 67,
   "metadata": {},
   "outputs": [
    {
     "name": "stdout",
     "output_type": "stream",
     "text": [
      "Best AUC-ROC value is 0.7163568585900241 with C value 0.005\n",
      "Time elapsed 0:00:15.709695\n"
     ]
    }
   ],
   "source": [
    " auc_roc_value_1 = logreg_cv_with_auc_roc_value(X_0_scaled, y, 0.005, 1, 200)"
   ]
  },
  {
   "cell_type": "markdown",
   "metadata": {},
   "source": [
    "`Оптимальное значение C равно 0.0037`"
   ]
  },
  {
   "cell_type": "code",
   "execution_count": 71,
   "metadata": {},
   "outputs": [
    {
     "name": "stdout",
     "output_type": "stream",
     "text": [
      "Best AUC-ROC value is 0.7163600080198889 with C value 0.0037\n",
      "Time elapsed 0:00:14.750661\n"
     ]
    }
   ],
   "source": [
    " auc_roc_value_1 = logreg_cv_with_auc_roc_value(X_0_scaled, y, 0.0001, 0.005, 50)"
   ]
  },
  {
   "cell_type": "markdown",
   "metadata": {},
   "source": [
    "#### Подбор параметра C для случая, когда в матрице признаков отсутсвуют категориальные признаки"
   ]
  },
  {
   "cell_type": "markdown",
   "metadata": {},
   "source": [
    "`Удалим категориальные признаки`"
   ]
  },
  {
   "cell_type": "code",
   "execution_count": 7,
   "metadata": {},
   "outputs": [],
   "source": [
    "X_0_without_cat_fields =X_0.drop(['lobby_type',\n",
    "                                  'r1_hero',\n",
    "                                  'r2_hero',\n",
    "                                  'r3_hero',\n",
    "                                  'r4_hero',\n",
    "                                  'r5_hero',\n",
    "                                  'd1_hero',\n",
    "                                  'd2_hero',\n",
    "                                  'd3_hero',\n",
    "                                  'd4_hero',\n",
    "                                  'd5_hero'], axis=1, inplace=False)\n",
    "y = pd.DataFrame(features['radiant_win'])"
   ]
  },
  {
   "cell_type": "code",
   "execution_count": 8,
   "metadata": {},
   "outputs": [
    {
     "name": "stderr",
     "output_type": "stream",
     "text": [
      "/home/ivan/anaconda3/lib/python3.7/site-packages/sklearn/preprocessing/data.py:625: DataConversionWarning: Data with input dtype int64, float64 were all converted to float64 by StandardScaler.\n",
      "  return self.partial_fit(X, y)\n",
      "/home/ivan/anaconda3/lib/python3.7/site-packages/sklearn/base.py:462: DataConversionWarning: Data with input dtype int64, float64 were all converted to float64 by StandardScaler.\n",
      "  return self.fit(X, **fit_params).transform(X)\n"
     ]
    }
   ],
   "source": [
    "scaler = StandardScaler()\n",
    "X_0_without_cat_fields_scaled = pd.DataFrame(scaler.fit_transform(X_0_without_cat_fields))"
   ]
  },
  {
   "cell_type": "markdown",
   "metadata": {},
   "source": [
    "`Заметим, что после удаления категориальных признаков значение параметра AUC-ROC почти не изменилось`"
   ]
  },
  {
   "cell_type": "code",
   "execution_count": 74,
   "metadata": {},
   "outputs": [
    {
     "name": "stdout",
     "output_type": "stream",
     "text": [
      "Best AUC-ROC value is 0.7164131326312374 with C value 0.005\n",
      "Time elapsed 0:01:10.652533\n"
     ]
    }
   ],
   "source": [
    "auc_roc_value_2 = logreg_cv_with_auc_roc_value(X_0_without_cat_fields_scaled, y, 0.005, 1, 200)"
   ]
  },
  {
   "cell_type": "code",
   "execution_count": 75,
   "metadata": {},
   "outputs": [
    {
     "name": "stdout",
     "output_type": "stream",
     "text": [
      "Best AUC-ROC value is 0.7164150563086176 with C value 0.0036000000000000003\n",
      "Time elapsed 0:00:11.931015\n"
     ]
    }
   ],
   "source": [
    "auc_roc_value_2 = logreg_cv_with_auc_roc_value(X_0_without_cat_fields_scaled, y, 0.0001, 0.005, 50)"
   ]
  },
  {
   "cell_type": "markdown",
   "metadata": {},
   "source": [
    "#### Подбор параметра C для случая, когда в матрице признаков учитываются категориальные признаки"
   ]
  },
  {
   "cell_type": "markdown",
   "metadata": {},
   "source": [
    "`Добавим категориальные признаки и с помощью методики мешка слов преобразуем данные поля`"
   ]
  },
  {
   "cell_type": "code",
   "execution_count": 9,
   "metadata": {},
   "outputs": [],
   "source": [
    "X_0_with_cat_fields_scaled = X_0_without_cat_fields_scaled.copy(deep = True)\n",
    "lobby_indexes = list(set(X_0['lobby_type']))\n",
    "for x in lobby_indexes:\n",
    "    X_0_with_cat_fields_scaled[f'lobby{x}']= np.zeros((X_0.shape[0], 1))\n",
    "for i, res in enumerate(X_0['lobby_type']):\n",
    "    X_0_with_cat_fields_scaled[f'lobby{res}'][i]= 1"
   ]
  },
  {
   "cell_type": "code",
   "execution_count": 10,
   "metadata": {},
   "outputs": [],
   "source": [
    "lst = []\n",
    "names_heroes = ['r1_hero','r2_hero','r3_hero','r4_hero','r5_hero',\n",
    "                'd1_hero','d2_hero','d3_hero','d4_hero','d5_hero']\n",
    "for name in names_heroes:\n",
    "    lst.append(list(set(X_0[name])))\n",
    "heroes_indexes = list(set([y for x in lst for y in x]))\n",
    "for x in heroes_indexes:\n",
    "    X_0_with_cat_fields_scaled[f'hero{int(x)}']= np.zeros((X_0.shape[0], 1))\n",
    "\n",
    "    \n",
    "for index, match_id in enumerate(X_0.index):\n",
    "    for p in range(1,6):\n",
    "        r_row = int(X_0[f'r{p}_hero'][match_id])\n",
    "        d_row = int(X_0[f'd{p}_hero'][match_id])\n",
    "        X_0_with_cat_fields_scaled[f'hero{r_row}'][index]= 1\n",
    "        X_0_with_cat_fields_scaled[f'hero{d_row}'][index]= -1"
   ]
  },
  {
   "cell_type": "code",
   "execution_count": null,
   "metadata": {},
   "outputs": [],
   "source": []
  },
  {
   "cell_type": "code",
   "execution_count": 11,
   "metadata": {},
   "outputs": [
    {
     "name": "stdout",
     "output_type": "stream",
     "text": [
      "Best AUC-ROC value is 0.7520978166635774 with C value 0.05\n",
      "Time elapsed 0:03:23.137500\n"
     ]
    }
   ],
   "source": [
    "auc_roc_value_3 = logreg_cv_with_auc_roc_value(X_0_with_cat_fields_scaled, y, 0.005, 1, 200)"
   ]
  },
  {
   "cell_type": "code",
   "execution_count": 12,
   "metadata": {},
   "outputs": [
    {
     "name": "stdout",
     "output_type": "stream",
     "text": [
      "Best AUC-ROC value is 0.7513607241908662 with C value 0.005\n",
      "Time elapsed 0:00:36.168811\n"
     ]
    }
   ],
   "source": [
    "auc_roc_value_3_1 = logreg_cv_with_auc_roc_value(X_0_with_cat_fields_scaled, y, 0.0001, 0.005, 50)"
   ]
  },
  {
   "cell_type": "markdown",
   "metadata": {},
   "source": [
    "`Значение параметра AUC-ROC увеличилось до 0.75`"
   ]
  },
  {
   "cell_type": "markdown",
   "metadata": {},
   "source": [
    "#### Предобработка и обучение лучшей модели на тестовой выборке"
   ]
  },
  {
   "cell_type": "markdown",
   "metadata": {},
   "source": [
    "`Далее идет преобразование тестовой выборки, обучение наилучшей модели на полной выборке и нахождение ответов`"
   ]
  },
  {
   "cell_type": "code",
   "execution_count": 27,
   "metadata": {},
   "outputs": [],
   "source": [
    "features_test = pd.read_csv('features_test.csv', index_col='match_id')"
   ]
  },
  {
   "cell_type": "code",
   "execution_count": 28,
   "metadata": {},
   "outputs": [],
   "source": [
    "for name in list(features_test.columns.values):\n",
    "    features_test[name].fillna(value=0, inplace=True)"
   ]
  },
  {
   "cell_type": "code",
   "execution_count": 29,
   "metadata": {},
   "outputs": [],
   "source": [
    "X_test_without_cat_fields =features_test.drop(['lobby_type',\n",
    "                                  'r1_hero',\n",
    "                                  'r2_hero',\n",
    "                                  'r3_hero',\n",
    "                                  'r4_hero',\n",
    "                                  'r5_hero',\n",
    "                                  'd1_hero',\n",
    "                                  'd2_hero',\n",
    "                                  'd3_hero',\n",
    "                                  'd4_hero',\n",
    "                                  'd5_hero'], axis=1, inplace=False)"
   ]
  },
  {
   "cell_type": "code",
   "execution_count": 30,
   "metadata": {},
   "outputs": [
    {
     "name": "stderr",
     "output_type": "stream",
     "text": [
      "/home/ivan/anaconda3/lib/python3.7/site-packages/sklearn/preprocessing/data.py:625: DataConversionWarning: Data with input dtype int64, float64 were all converted to float64 by StandardScaler.\n",
      "  return self.partial_fit(X, y)\n",
      "/home/ivan/anaconda3/lib/python3.7/site-packages/sklearn/base.py:462: DataConversionWarning: Data with input dtype int64, float64 were all converted to float64 by StandardScaler.\n",
      "  return self.fit(X, **fit_params).transform(X)\n"
     ]
    }
   ],
   "source": [
    "scaler = StandardScaler()\n",
    "X_test_without_cat_fields_scaled = pd.DataFrame(scaler.fit_transform(X_test_without_cat_fields))"
   ]
  },
  {
   "cell_type": "code",
   "execution_count": 31,
   "metadata": {},
   "outputs": [],
   "source": [
    "X_test_with_cat_fields_scaled = X_test_without_cat_fields_scaled.copy(deep = True)\n",
    "lobby_indexes = list(set(features_test['lobby_type']))\n",
    "for x in lobby_indexes:\n",
    "    X_test_with_cat_fields_scaled[f'lobby{x}']= np.zeros((features_test.shape[0], 1))\n",
    "for i, res in enumerate(X_0['lobby_type']):\n",
    "    X_test_with_cat_fields_scaled[f'lobby{res}'][i]= 1"
   ]
  },
  {
   "cell_type": "code",
   "execution_count": 32,
   "metadata": {},
   "outputs": [],
   "source": [
    "lst = []\n",
    "names_heroes = ['r1_hero','r2_hero','r3_hero','r4_hero','r5_hero',\n",
    "                'd1_hero','d2_hero','d3_hero','d4_hero','d5_hero']\n",
    "for name in names_heroes:\n",
    "    lst.append(list(set(features_test[name])))\n",
    "heroes_indexes = list(set([y for x in lst for y in x]))\n",
    "for x in heroes_indexes:\n",
    "    X_test_with_cat_fields_scaled[f'hero{int(x)}']= np.zeros((features_test.shape[0], 1))\n",
    "\n",
    "    \n",
    "for index, match_id in enumerate(features_test.index):\n",
    "    for p in range(1,6):\n",
    "        r_row = int(features_test[f'r{p}_hero'][match_id])\n",
    "        d_row = int(features_test[f'd{p}_hero'][match_id])\n",
    "        X_test_with_cat_fields_scaled[f'hero{r_row}'][index]= 1\n",
    "        X_test_with_cat_fields_scaled[f'hero{d_row}'][index]= -1"
   ]
  },
  {
   "cell_type": "code",
   "execution_count": 35,
   "metadata": {},
   "outputs": [],
   "source": [
    "clf = LogisticRegression(solver = 'saga',random_state = 241, penalty='l2', C=0.05, max_iter = 1000)"
   ]
  },
  {
   "cell_type": "code",
   "execution_count": 36,
   "metadata": {},
   "outputs": [],
   "source": [
    "y_train = list(map(lambda x: list(x).pop(), y.values))"
   ]
  },
  {
   "cell_type": "code",
   "execution_count": 37,
   "metadata": {},
   "outputs": [],
   "source": [
    "Y_test_proba = clf.fit(X_0_with_cat_fields_scaled.values.tolist(), y_train).predict_proba(X_test_with_cat_fields_scaled.values.tolist())[:, 1]"
   ]
  },
  {
   "cell_type": "markdown",
   "metadata": {},
   "source": [
    "`Минимальное значение вероятности для тестовой выборке`"
   ]
  },
  {
   "cell_type": "code",
   "execution_count": 50,
   "metadata": {},
   "outputs": [
    {
     "data": {
      "text/plain": [
       "0.009429917441092055"
      ]
     },
     "execution_count": 50,
     "metadata": {},
     "output_type": "execute_result"
    }
   ],
   "source": [
    "min(list(Y_test_proba))"
   ]
  },
  {
   "cell_type": "markdown",
   "metadata": {},
   "source": [
    "`Максимальное значение вероятности для тестовой выборке`"
   ]
  },
  {
   "cell_type": "code",
   "execution_count": 51,
   "metadata": {},
   "outputs": [
    {
     "data": {
      "text/plain": [
       "0.9966216509212199"
      ]
     },
     "execution_count": 51,
     "metadata": {},
     "output_type": "execute_result"
    }
   ],
   "source": [
    "max(list(Y_test_proba))"
   ]
  },
  {
   "cell_type": "code",
   "execution_count": 46,
   "metadata": {},
   "outputs": [],
   "source": [
    "features_result = pd.DataFrame({'match_id': features_test.index, 'radiant_win': Y_test_proba})\n",
    "features_result.to_csv('result_out.csv',index=False)"
   ]
  },
  {
   "cell_type": "markdown",
   "metadata": {},
   "source": [
    "## Резюме по логистической регрессии "
   ]
  },
  {
   "cell_type": "markdown",
   "metadata": {},
   "source": [
    "Какое качество получилось у логистической регрессии над всеми исходными признаками? Как оно соотносится с качеством градиентного бустинга? Чем вы можете объяснить эту разницу? Быстрее ли работает логистическая регрессия по сравнению с градиентным бустингом?"
   ]
  },
  {
   "cell_type": "markdown",
   "metadata": {},
   "source": [
    " - Качество логистической регрессии для обучающей выборки на кросс-валидации получилось равным 0.716, что немного больше, чем 0.69 от градиентного бустинга. \n",
    " - Разницу можно объяснить небольшим количеством деревьев в градиентном бустинге. \n",
    " - Логистическая регрессия работает быстрее градиентного бустинга. (15 секунд против 1.5 минуты)"
   ]
  },
  {
   "cell_type": "markdown",
   "metadata": {},
   "source": [
    "Как влияет на качество логистической регрессии удаление категориальных признаков (укажите новое значение метрики качества)? Чем вы можете объяснить это изменение?"
   ]
  },
  {
   "cell_type": "markdown",
   "metadata": {},
   "source": [
    "- Качество практически повышается на очень малую величину (0.71636 против 0.7164)\n",
    "- Можно объяснить тем, что категориальные признаки, которые воспринималются, как количественные, ухудшают качество обучения  "
   ]
  },
  {
   "cell_type": "markdown",
   "metadata": {},
   "source": [
    "Сколько различных идентификаторов героев существует в данной игре?"
   ]
  },
  {
   "cell_type": "markdown",
   "metadata": {},
   "source": [
    "- 108"
   ]
  },
  {
   "cell_type": "markdown",
   "metadata": {},
   "source": [
    "Какое получилось качество при добавлении \"мешка слов\" по героям? Улучшилось ли оно по сравнению с предыдущим вариантом? Чем вы можете это объяснить?"
   ]
  },
  {
   "cell_type": "markdown",
   "metadata": {},
   "source": [
    "- Качество при добавлении \"мешка слов\" по героям увеличилось до 0.75. Улучшилось. \n",
    "- Объяснить можно тем, что при правильном внесении категориальных признаков в матрицу признаков, обучающий алгоритм получает гораздо больше информации, а следовательно можно лучше предсказывать результаты тестовой выборки"
   ]
  },
  {
   "cell_type": "markdown",
   "metadata": {},
   "source": [
    "Какое минимальное и максимальное значение прогноза на тестовой выборке получилось у лучшего из алгоритмов?"
   ]
  },
  {
   "cell_type": "markdown",
   "metadata": {},
   "source": [
    "- Минимальное - 0.009429917441092055"
   ]
  },
  {
   "cell_type": "markdown",
   "metadata": {},
   "source": [
    "- Максимальное - 0.9966216509212199"
   ]
  },
  {
   "cell_type": "code",
   "execution_count": null,
   "metadata": {},
   "outputs": [],
   "source": []
  }
 ],
 "metadata": {
  "kernelspec": {
   "display_name": "Python 3",
   "language": "python",
   "name": "python3"
  },
  "language_info": {
   "codemirror_mode": {
    "name": "ipython",
    "version": 3
   },
   "file_extension": ".py",
   "mimetype": "text/x-python",
   "name": "python",
   "nbconvert_exporter": "python",
   "pygments_lexer": "ipython3",
   "version": "3.7.1"
  }
 },
 "nbformat": 4,
 "nbformat_minor": 2
}
