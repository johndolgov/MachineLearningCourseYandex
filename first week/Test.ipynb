{
 "cells": [
  {
   "cell_type": "code",
   "execution_count": 1,
   "metadata": {},
   "outputs": [],
   "source": [
    "import numpy as np"
   ]
  },
  {
   "cell_type": "code",
   "execution_count": 20,
   "metadata": {},
   "outputs": [
    {
     "name": "stdout",
     "output_type": "stream",
     "text": [
      "[[-18.81651638 -10.84345947  -8.38178424 ...   2.54867739   1.06642629\n",
      "   20.0144618 ]\n",
      " [  8.17459565  -5.95596425 -13.45237129 ... -21.81185304 -18.22568093\n",
      "  -11.35355657]\n",
      " [ -6.20289999  -4.68790875   7.22646819 ...  -9.32173615   3.5453371\n",
      "  -16.29389522]\n",
      " ...\n",
      " [ 12.25154533   4.90355537   4.47469214 ...   9.10946616   2.36869989\n",
      "    5.94452679]\n",
      " [ 15.16386612   1.33559628 -24.9314064  ...   7.41132781  -3.54224237\n",
      "  -13.5882448 ]\n",
      " [-10.07916895  -1.40054158  -5.61096629 ...  -4.52070101  -3.84798298\n",
      "    5.10366489]]\n"
     ]
    }
   ],
   "source": [
    "X = np.random.normal(loc = 1, scale = 10, size = (1000,50))\n",
    "print(X)"
   ]
  },
  {
   "cell_type": "code",
   "execution_count": 21,
   "metadata": {},
   "outputs": [],
   "source": [
    "mean = np.mean(X, axis = 0)\n",
    "std = np.std(X, axis=0)"
   ]
  },
  {
   "cell_type": "code",
   "execution_count": 22,
   "metadata": {},
   "outputs": [
    {
     "name": "stdout",
     "output_type": "stream",
     "text": [
      "[[-2.01081565 -1.20844185 -0.93064825 ...  0.15416875  0.00365622\n",
      "   1.93755176]\n",
      " [ 0.74154316 -0.70056082 -1.42841594 ... -2.34353499 -1.98490268\n",
      "  -1.2912953 ]\n",
      " [-0.72457008 -0.56879162  0.60157746 ... -1.06291379  0.25917315\n",
      "  -1.79982592]\n",
      " ...\n",
      " [ 1.15728107  0.42789941  0.33144203 ...  0.82685142  0.13788975\n",
      "   0.48927193]\n",
      " [ 1.45425852  0.05713716 -2.55528602 ...  0.65274001 -0.47138827\n",
      "  -1.52132151]\n",
      " [-1.11984401 -0.22718691 -0.65864352 ... -0.57066    -0.50290287\n",
      "   0.40271834]]\n"
     ]
    }
   ],
   "source": [
    "X_norm = (X-mean)/std\n",
    "print(X_norm)"
   ]
  },
  {
   "cell_type": "code",
   "execution_count": 29,
   "metadata": {},
   "outputs": [
    {
     "name": "stdout",
     "output_type": "stream",
     "text": [
      "(array([1, 4, 5]),)\n",
      "3\n"
     ]
    }
   ],
   "source": [
    "Z = np.array([[4,5,0],\n",
    "            [1,9,3],\n",
    "            [5,1,1],\n",
    "            [3,3,3],\n",
    "            [9,9,9],\n",
    "            [4,7,1]])\n",
    "r = np.sum(Z, axis=1)\n",
    "print(np.nonzero(r>10))\n",
    "print(np.size(np.nonzero(r>10)))"
   ]
  },
  {
   "cell_type": "code",
   "execution_count": 33,
   "metadata": {},
   "outputs": [
    {
     "name": "stdout",
     "output_type": "stream",
     "text": [
      "[[1 0 0]\n",
      " [0 1 0]\n",
      " [0 0 1]\n",
      " [1 0 0]\n",
      " [0 1 0]\n",
      " [0 0 1]]\n"
     ]
    }
   ],
   "source": [
    "first = np.eye(3, dtype = int)\n",
    "second = np.eye(3, dtype = int)\n",
    "firstsecond = np.vstack((first, second))\n",
    "print(firstsecond)"
   ]
  },
  {
   "cell_type": "code",
   "execution_count": null,
   "metadata": {},
   "outputs": [],
   "source": []
  }
 ],
 "metadata": {
  "kernelspec": {
   "display_name": "Python 3",
   "language": "python",
   "name": "python3"
  },
  "language_info": {
   "codemirror_mode": {
    "name": "ipython",
    "version": 3
   },
   "file_extension": ".py",
   "mimetype": "text/x-python",
   "name": "python",
   "nbconvert_exporter": "python",
   "pygments_lexer": "ipython3",
   "version": "3.7.1"
  }
 },
 "nbformat": 4,
 "nbformat_minor": 2
}
