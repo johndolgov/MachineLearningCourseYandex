{
 "cells": [
  {
   "cell_type": "code",
   "execution_count": 120,
   "metadata": {},
   "outputs": [],
   "source": [
    "import numpy as np\n",
    "import pandas as pd\n",
    "import matplotlib.pyplot as plt\n",
    "from sklearn.metrics import roc_auc_score\n",
    "from math import exp\n",
    "from sklearn.preprocessing import StandardScaler"
   ]
  },
  {
   "cell_type": "code",
   "execution_count": 121,
   "metadata": {},
   "outputs": [],
   "source": [
    "data = pd.read_csv('data-logistic.csv')"
   ]
  },
  {
   "cell_type": "code",
   "execution_count": 122,
   "metadata": {},
   "outputs": [
    {
     "data": {
      "image/png": "[encoded data removed]",
      "text/plain": [
       "<Figure size 432x288 with 1 Axes>"
      ]
     },
     "metadata": {
      "needs_background": "light"
     },
     "output_type": "display_data"
    }
   ],
   "source": [
    "X_1 = data[data['Class'] == 1]\n",
    "X_0 = data[data['Class'] == -1]\n",
    "plt.plot(X_0['Param1'], X_0['Param2'], 'ro')\n",
    "plt.plot(X_1['Param1'], X_1['Param2'], 'bo')\n",
    "plt.show()"
   ]
  },
  {
   "cell_type": "code",
   "execution_count": 123,
   "metadata": {},
   "outputs": [],
   "source": [
    "def grad_sp(data, C=0, k = 0.1, delta = 1e-5, w = (0,0)):\n",
    "    w_1 = w[0]\n",
    "    w_2 = w[1]\n",
    "    w_1_old = w_1 + 10000\n",
    "    w_2_old = w_2 + 10000\n",
    "    i = 0\n",
    "    while((((w_1 - w_1_old)**2 + (w_2 - w_2_old)**2)**(0.5) > delta) and (i < 10000)):\n",
    "        w_1_old, w_2_old = w_1, w_2\n",
    "        sum_1 = 0\n",
    "        sum_2 = 0\n",
    "        for line in data.values:\n",
    "            y_i = int(line[0])\n",
    "            x_i_1 = line[1]\n",
    "            x_i_2 = line[2]\n",
    "            sum_1 += y_i * x_i_1 * (1 - 1/(1 + exp(-y_i*(w_1*x_i_1 + w_2*x_i_2))))\n",
    "            sum_2 += y_i * x_i_2 * (1 - 1/(1 + exp(-y_i*(w_1*x_i_1 + w_2*x_i_2))))\n",
    "        w_1 = w_1 + (k*sum_1/len(data.values)) - k*C*w_1\n",
    "        w_2 = w_2 + (k*sum_2/len(data.values)) - k*C*w_2\n",
    "        i += 1\n",
    "    print(i)\n",
    "    return (w_1, w_2)"
   ]
  },
  {
   "cell_type": "code",
   "execution_count": 124,
   "metadata": {},
   "outputs": [],
   "source": [
    "def sigmoid(data, w_1, w_2):\n",
    "    result = []\n",
    "    for line in data.values:\n",
    "        result.append(1/(1+exp(-w_1*line[1] - w_2*line[2])))\n",
    "    return result"
   ]
  },
  {
   "cell_type": "code",
   "execution_count": 125,
   "metadata": {},
   "outputs": [
    {
     "name": "stdout",
     "output_type": "stream",
     "text": [
      "244\n",
      "0.9268571428571428\n"
     ]
    }
   ],
   "source": [
    "w_1,w_2 = grad_sp(data)\n",
    "a_x = sigmoid(data,w_1,w_2)\n",
    "print(roc_auc_score(list(data_2['Class']), a_x))"
   ]
  },
  {
   "cell_type": "code",
   "execution_count": 126,
   "metadata": {},
   "outputs": [
    {
     "name": "stdout",
     "output_type": "stream",
     "text": [
      "8\n",
      "0.9362857142857142\n"
     ]
    }
   ],
   "source": [
    "w_1,w_2 = grad_sp(data, C=10)\n",
    "a_x = sigmoid(data,w_1,w_2)\n",
    "print(roc_auc_score(list(data_2['Class']), a_x))"
   ]
  },
  {
   "cell_type": "code",
   "execution_count": null,
   "metadata": {},
   "outputs": [],
   "source": []
  }
 ],
 "metadata": {
  "kernelspec": {
   "display_name": "Python 3",
   "language": "python",
   "name": "python3"
  },
  "language_info": {
   "codemirror_mode": {
    "name": "ipython",
    "version": 3
   },
   "file_extension": ".py",
   "mimetype": "text/x-python",
   "name": "python",
   "nbconvert_exporter": "python",
   "pygments_lexer": "ipython3",
   "version": "3.7.1"
  }
 },
 "nbformat": 4,
 "nbformat_minor": 2
}
